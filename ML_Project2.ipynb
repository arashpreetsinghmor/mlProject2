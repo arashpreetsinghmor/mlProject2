{
 "cells": [
  {
   "cell_type": "code",
   "execution_count": 3,
   "metadata": {
    "collapsed": true
   },
   "outputs": [],
   "source": [
    "from sklearn import svm\n",
    "import numpy as np\n",
    "from scipy.io import loadmat\n",
    "from sklearn.svm import SVC\n",
    "from RVM import RVC\n",
    "from sklearn.gaussian_process import GaussianProcessClassifier\n",
    "from sklearn.gaussian_process.kernels import RBF\n",
    "from sklearn.multiclass import OneVsOneClassifier, OneVsRestClassifier\n",
    "from sklearn.model_selection import GridSearchCV\n",
    "from sklearn.decomposition import PCA\n",
    "from sklearn.gaussian_process.kernels import RBF, ConstantKernel as C\n",
    "from sklearn.model_selection import KFold\n",
    "\n",
    "global Parameters\n",
    "Params={\n",
    "    'SVM':{\n",
    "        'gamma' : [1]\n",
    "    },\n",
    "    'RVM':{\n",
    "        'alpha':[1e-06],\n",
    "        'beta' : [1e-06]\n",
    "    },\n",
    "    'GPR':{\n",
    "        'length_scale' : [10]\n",
    "    }\n",
    "}"
   ]
  },
  {
   "cell_type": "code",
   "execution_count": 4,
   "metadata": {
    "collapsed": true
   },
   "outputs": [],
   "source": [
    "def PreProcessing(file_name):\n",
    "    '''\n",
    "    target = loadmat(file_name)[\"Proj2TargetOutputsSet1\"]\n",
    "    m = len(target)\n",
    "    n = len(target[0])\n",
    "    y = []\n",
    "    for i in xrange(m):\n",
    "        for j in xrange(n):\n",
    "            if target[i][j] == 1:\n",
    "                y.append(j)\n",
    "    return y\n",
    "    '''\n",
    "    target = loadmat(file_name)[\"Proj2TargetOutputsSet1\"]\n",
    "    number_labels = []\n",
    "    for ars in target:\n",
    "        if np.all(ars == [1, -1, -1, -1, -1]):\n",
    "            ars = 1\n",
    "            number_labels.append(ars)\n",
    "        elif np.all(ars == [-1, 1, -1, -1, -1]):\n",
    "            ars = 2\n",
    "            number_labels.append(ars)\n",
    "        elif np.all(ars == [-1, -1, 1, -1, -1]):\n",
    "            ars = 3\n",
    "            number_labels.append(ars)\n",
    "        elif np.all(ars == [-1, -1, -1, 1, -1]):\n",
    "            ars = 4\n",
    "            number_labels.append(ars)\n",
    "        elif np.all(ars == [-1, -1, -1, -1, 1]):\n",
    "            ars = 5\n",
    "            number_labels.append(ars)\n",
    "\n",
    "    return np.asarray(number_labels)"
   ]
  },
  {
   "cell_type": "code",
   "execution_count": 5,
   "metadata": {
    "collapsed": true
   },
   "outputs": [],
   "source": [
    "def SVMTraining(XEstimate,XValidate,Parameters,class_labels):\n",
    "    #clf = svm.SVC(decision_function_shape='ovo',Parameters)\n",
    "    svcClassifier = SVC(kernel='rbf',  probability=True)\n",
    "    gridSearcher = GridSearchCV(svcClassifier, Parameters)\n",
    "    clf = OneVsRestClassifier(gridSearcher)\n",
    "    #clf = OneVsRestClassifier(GridSearchCV(SVC(kernel='rbf',  probability=True), Parameters))\n",
    "    print(clf.fit(XEstimate, class_labels))\n",
    "    Yvalidate=clf.predict(XValidate)\n",
    "    EstParameters=clf.get_params()\n",
    "    print(clf.predict_proba(XValidate))\n",
    "    mini = 1\n",
    "    for i in clf.predict_proba(XValidate):\n",
    "        mini = min(max(i), mini)\n",
    "    print(mini)\n",
    "    print(svcClassifier.__dict__)\n",
    "    #print(clf.d(XValidate))\n",
    "    return {\"Yvalidate\": Yvalidate,\n",
    "            \"EstParameters\": EstParameters,\n",
    "            \"clf\": clf}"
   ]
  },
  {
   "cell_type": "code",
   "execution_count": null,
   "metadata": {
    "collapsed": true
   },
   "outputs": [],
   "source": []
  },
  {
   "cell_type": "code",
   "execution_count": 6,
   "metadata": {
    "collapsed": true
   },
   "outputs": [],
   "source": [
    "def RVMTraining(XEstimate,XValidate,Parameters,class_labels):\n",
    "    clf = OneVsOneClassifier(GridSearchCV(RVC(kernel='rbf', n_iter=1), Parameters))\n",
    "    print(clf.fit(XEstimate, class_labels))\n",
    "    Yvalidate = clf.predict(XValidate)\n",
    "    EstParameters = clf.get_params()\n",
    "    return {\"Yvalidate\": Yvalidate,\n",
    "            \"EstParameters\": EstParameters,\n",
    "            \"clf\": clf}"
   ]
  },
  {
   "cell_type": "code",
   "execution_count": 7,
   "metadata": {
    "collapsed": true
   },
   "outputs": [],
   "source": [
    "def GPRTraining(XEstimate,XValidate,Parameters,class_labels):\n",
    "    kernel = RBF(length_scale=1.0, length_scale_bounds=(1e-05, 100000.0))\n",
    "    #clf = GaussianProcessClassifier(kernel=kernel, n_restarts_optimizer=1)\n",
    "    clf = GaussianProcessClassifier(kernel= RBF(length_scale=1.0), optimizer=None,\n",
    "                                       multi_class='one_vs_one', n_jobs=1)\n",
    "\n",
    "    clf.fit(XEstimate, class_labels)\n",
    "    Yvalidate = clf.predict(XValidate)\n",
    "    EstParameters = clf.get_params()\n",
    "    \n",
    "    return {\"Yvalidate\": Yvalidate,\n",
    "            \"EstParameters\": EstParameters,\n",
    "            \"clf\": clf}"
   ]
  },
  {
   "cell_type": "code",
   "execution_count": 10,
   "metadata": {
    "collapsed": false
   },
   "outputs": [],
   "source": [
    "def MyCrossValidate(XTrain, Nf, ClassLabels):\n",
    "    appended = list(zip(XTrain, ClassLabels))\n",
    "\n",
    "    \n",
    "    kf = KFold(n_splits=Nf)\n",
    "\n",
    "    ConfMatrix = np.zeros([len(unique_number_of_class_labels), len(unique_number_of_class_labels)], dtype=int)\n",
    "    EstConfMatrices = []\n",
    "    for train, test in kf.split(appended):\n",
    "        if Parameters == \"SVM\":\n",
    "            res = SVMTraining(train[:][0:len(train[0])-1], train[:][-1], Params[Parameters], test[:][0:len(train[0])-1])\n",
    "        elif Parameters == \"RVM\":\n",
    "            res = RVMTraining(train[:][0:len(train[0])-1], train[:][-1], Params[Parameters], test[:][0:len(train[0])-1])\n",
    "        elif Parameters == \"GPR\":\n",
    "            res = GPRTraining(train[:][0:len(train[0])-1], train[:][-1], Params['GPR'], test[:][0:len(train[0])-1])\n",
    "        \n",
    "        l = MyConfusionMatrix(res[\"Yvalidate\"], \" \",test[:][-1])\n",
    "        EstConfMatrices.append(l[0])\n",
    "        ConfMatrix += l[0]"
   ]
  },
  {
   "cell_type": "code",
   "execution_count": 11,
   "metadata": {
    "collapsed": true
   },
   "outputs": [],
   "source": [
    "def MyConfusionMatrix(predictedLabels, ClassNames, actualLabels):\n",
    "    unique_number_of_class_labels = sorted(set(actualLabels))\n",
    "    matrix = np.zeros([len(unique_number_of_class_labels), len(unique_number_of_class_labels)], dtype=int)\n",
    "    correctHits = 0\n",
    "    for i in range(len(actualLabels)):\n",
    "        matrix[actualLabels[i]][predictedLabels[i]] += 1\n",
    "        if actualLabels[i] == predictedLabels[i]:\n",
    "            correctHits += 1\n",
    "    \n",
    "    confusion_matrix = matrix[:][:]\n",
    "\n",
    "    confusion_matrix2 = matrix / matrix.sum(axis=1)[:, None]\n",
    "\n",
    "\n",
    "    print(confusion_matrix2)\n",
    "    \n",
    "    return (confusion_matrix, correctHits/len(actualLabels))"
   ]
  },
  {
   "cell_type": "code",
   "execution_count": 12,
   "metadata": {
    "collapsed": true
   },
   "outputs": [],
   "source": [
    "def TestMyClassifier(XTest, Parameters, EstParameters):\n",
    "    Ytest = clf.predict(XTest)\n",
    "    return Ytest"
   ]
  },
  {
   "cell_type": "code",
   "execution_count": 13,
   "metadata": {
    "collapsed": true
   },
   "outputs": [],
   "source": [
    "def TrainMyClassifier(XEstimate,XValidate,Parameters,class_labels):\n",
    "    if Parameters == \"SVM\":\n",
    "        return SVMTraining(XEstimate,XValidate,Params[Parameters],class_labels)\n",
    "    elif Parameters == \"RVM\":\n",
    "        return RVMTraining(XEstimate,XValidate,Params[Parameters],class_labels)\n",
    "    elif Parameters == \"GPR\":\n",
    "        return GPRTraining(XEstimate,XValidate,Params[Parameters],class_labels)\n",
    "    "
   ]
  },
  {
   "cell_type": "code",
   "execution_count": null,
   "metadata": {
    "collapsed": false
   },
   "outputs": [
    {
     "name": "stdout",
     "output_type": "stream",
     "text": [
      "Input the classifier you want to train (RVM / SVM / GPR) :\n"
     ]
    }
   ],
   "source": [
    "if __name__ == '__main__':\n",
    "    x=loadmat(\"Proj2FeatVecsSet1.mat\")[\"Proj2FeatVecsSet1\"]\n",
    "    y=PreProcessing(\"Proj2TargetOutputsSet1.mat\")\n",
    "    y = np.asarray(y)\n",
    "    pca = PCA(n_components=10)\n",
    "    reduced_XEstimate = pca.fit_transform(x)\n",
    "    l=[]\n",
    "    t= []\n",
    "    for x in range(1,25000,10):\n",
    "        l.append(x)\n",
    "    xe=[]\n",
    "    yy=[]\n",
    "    testData = []\n",
    "    testLabels = []\n",
    "    #for i in range(10):\n",
    "    #    testData.append(100)\n",
    "    for i in l:\n",
    "        xe.append(reduced_XEstimate[i])\n",
    "        yy.append(y[i])\n",
    "        testData.append(reduced_XEstimate[i-1])\n",
    "        testLabels.append(y[i-1])\n",
    "\n",
    "    #should load the test data here\n",
    "    #RVMTraining(reduced_XEstimate[10000:19000], reduced_XEstimate[100:200], Params['RVM'],y[10000:19000])\n",
    "    #GPRTraining(reduced_XEstimate, reduced_XEstimate, Params['GPR'],y)\n",
    "    #print(xe[0])\n",
    "    print(\"Input the classifier you want to train (RVM / SVM / GPR) :\")\n",
    "    Parameters = input()\n",
    "    res = TrainMyClassifier(xe, testData, Parameters ,yy)\n",
    "    MyCrossValidate(xe, 5, yy)\n",
    "    print(res[\"Yvalidate\"])\n"
   ]
  },
  {
   "cell_type": "code",
   "execution_count": null,
   "metadata": {
    "collapsed": true
   },
   "outputs": [],
   "source": []
  },
  {
   "cell_type": "code",
   "execution_count": null,
   "metadata": {
    "collapsed": true
   },
   "outputs": [],
   "source": []
  }
 ],
 "metadata": {
  "kernelspec": {
   "display_name": "Python 3",
   "language": "python",
   "name": "python3"
  },
  "language_info": {
   "codemirror_mode": {
    "name": "ipython",
    "version": 3
   },
   "file_extension": ".py",
   "mimetype": "text/x-python",
   "name": "python",
   "nbconvert_exporter": "python",
   "pygments_lexer": "ipython3",
   "version": "3.6.0"
  }
 },
 "nbformat": 4,
 "nbformat_minor": 2
}
